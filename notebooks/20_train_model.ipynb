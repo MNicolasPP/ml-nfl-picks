{
 "cells": [
  {
   "cell_type": "markdown",
   "id": "5b10d586",
   "metadata": {},
   "source": [
    "# 20 — Train Model"
   ]
  },
  {
   "cell_type": "markdown",
   "id": "6cc38e11",
   "metadata": {},
   "source": [
    "Entrena LightGBM/XGBoost con validación temporal."
   ]
  },
  {
   "cell_type": "code",
   "execution_count": null,
   "id": "56b45223",
   "metadata": {},
   "outputs": [],
   "source": [
    "from src.models.train import train_model\n",
    "mae = train_model('data/processed/player_games.parquet', 'models/artifacts')\n",
    "mae"
   ]
  }
 ],
 "metadata": {},
 "nbformat": 4,
 "nbformat_minor": 5
}
