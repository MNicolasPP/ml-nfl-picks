{
 "cells": [
  {
   "cell_type": "markdown",
   "id": "68163075",
   "metadata": {},
   "source": [
    "# 10 — Build Dataset"
   ]
  },
  {
   "cell_type": "markdown",
   "id": "f843dd68",
   "metadata": {},
   "source": [
    "Une fuentes y construye la tabla jugador–partido."
   ]
  },
  {
   "cell_type": "code",
   "execution_count": null,
   "id": "4da0daa9",
   "metadata": {},
   "outputs": [],
   "source": [
    "from src.data.features import build_player_game_dataset\n",
    "df = build_player_game_dataset(output_path='data/processed/player_games.parquet', prop_type=None)\n",
    "df.head()"
   ]
  }
 ],
 "metadata": {},
 "nbformat": 4,
 "nbformat_minor": 5
}
