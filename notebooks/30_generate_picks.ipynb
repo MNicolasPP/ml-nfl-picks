{
 "cells": [
  {
   "cell_type": "markdown",
   "id": "4846355d",
   "metadata": {},
   "source": [
    "# 30 — Generate Picks"
   ]
  },
  {
   "cell_type": "markdown",
   "id": "29aba640",
   "metadata": {},
   "source": [
    "Convierte predicciones a Prob(Over) y calcula edge vs. línea."
   ]
  },
  {
   "cell_type": "code",
   "execution_count": null,
   "id": "9d182349",
   "metadata": {},
   "outputs": [],
   "source": [
    "import pandas as pd, numpy as np\n",
    "from src.models.predict import predict\n",
    "from scipy.stats import norm\n",
    "\n",
    "df = predict('data/processed/player_games.parquet', 'models/artifacts/model.joblib')\n",
    "\n",
    "# DEMO: línea fija basada en posición (ajusta con tus vegas_lines reales por jugador)\n",
    "df['line'] = np.where(df['position'].isin(['RB']), 45.5, 39.5)\n",
    "\n",
    "MAE_HIST = 12.0\n",
    "df['prob_over'] = 1 - norm.cdf(df['line'], loc=df['pred_yards'], scale=MAE_HIST)\n",
    "\n",
    "def american_to_payout(odds):\n",
    "    if odds < 0: return 100/(-odds)\n",
    "    return odds/100\n",
    "\n",
    "payout = american_to_payout(-110)\n",
    "df['edge'] = df['prob_over']*payout - (1-df['prob_over'])\n",
    "\n",
    "picks = df[['player','team','opp','position','line','pred_yards','prob_over','edge']].copy()\n",
    "picks = picks.query('prob_over >= 0.58 and edge >= 0.08').sort_values('edge', ascending=False)\n",
    "picks.head(20)"
   ]
  }
 ],
 "metadata": {},
 "nbformat": 4,
 "nbformat_minor": 5
}
