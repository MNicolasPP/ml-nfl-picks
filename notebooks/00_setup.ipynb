{
 "cells": [
  {
   "cell_type": "markdown",
   "id": "cbb3a0f8",
   "metadata": {},
   "source": [
    "# 00 — Setup"
   ]
  },
  {
   "cell_type": "markdown",
   "id": "b0e127e9",
   "metadata": {},
   "source": [
    "Instala dependencias, carga config y valida rutas."
   ]
  },
  {
   "cell_type": "code",
   "execution_count": null,
   "id": "739da795",
   "metadata": {},
   "outputs": [],
   "source": [
    "from src.config import load_config\n",
    "cfg = load_config()\n",
    "cfg.data.keys()"
   ]
  },
  {
   "cell_type": "code",
   "execution_count": null,
   "id": "f3db497a",
   "metadata": {},
   "outputs": [],
   "source": [
    "print(cfg.get('paths.processed'))"
   ]
  }
 ],
 "metadata": {},
 "nbformat": 4,
 "nbformat_minor": 5
}
